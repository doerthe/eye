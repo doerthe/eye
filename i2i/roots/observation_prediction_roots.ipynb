{
  "nbformat": 4,
  "nbformat_minor": 0,
  "metadata": {
    "colab": {
      "name": "observation_prediction_roots.ipynb",
      "version": "0.3.2",
      "provenance": [],
      "collapsed_sections": [],
      "include_colab_link": true
    },
    "kernelspec": {
      "display_name": "Python 3",
      "language": "python",
      "name": "python3"
    },
    "accelerator": "GPU"
  },
  "cells": [
    {
      "cell_type": "markdown",
      "metadata": {
        "id": "view-in-github",
        "colab_type": "text"
      },
      "source": [
        "[View in Colaboratory](https://colab.research.google.com/github/josd/eye/blob/master/i2i/roots/observation_prediction_roots.ipynb)"
      ]
    },
    {
      "metadata": {
        "id": "dhe7TwGQgoio",
        "colab_type": "text"
      },
      "cell_type": "markdown",
      "source": [
        "# Transduction from observation to prediction for roots of polynomial"
      ]
    },
    {
      "metadata": {
        "id": "p24oSjZHgoiy",
        "colab_type": "text"
      },
      "cell_type": "markdown",
      "source": [
        "## Introduction\n",
        "\n",
        "What is [Transduction (machine learning)](https://en.wikipedia.org/wiki/Transduction_(machine_learning%29):\n",
        "\n",
        "> In logic, statistical inference, and supervised learning, transduction or\n",
        "transductive inference is reasoning from observed, specific (training) cases\n",
        "to specific (test) cases. In contrast, induction is reasoning from observed\n",
        "training cases to general rules, which are then applied to the test cases.\n",
        "The distinction is most interesting in cases where the predictions of the\n",
        "transductive model are not achievable by any inductive model. Note that this\n",
        "is caused by transductive inference on different test sets producing mutually\n",
        "inconsistent predictions.\n",
        "\n",
        "What is the Tensor2Tensor [Transformer model](https://github.com/tensorflow/tensor2tensor/blob/master/tensor2tensor/models/transformer.py):\n",
        "\n",
        "> The Transformer model consists of an encoder and a decoder. Both are stacks\n",
        "of self-attention layers followed by feed-forward layers. This model yields\n",
        "good results on a number of problems, especially in NLP and machine translation.\n",
        "See \"Attention Is All You Need\" (https://arxiv.org/abs/1706.03762) for the full\n",
        "description of the model and the results obtained with its early version.\n",
        "\n",
        "![Transformer model](https://pbs.twimg.com/media/DCKhefrUMAE9stK.jpg)\n",
        "\n",
        "> The encoder is composed of a stack of N identical layers. Each layer has\n",
        "two sub-layers. The first is a multi-head self-attention mechanism, and the\n",
        "second is a simple, positionwise fully connected feed-forward network.\n",
        "There is a residual connection around each of the two sub-layers, followed by\n",
        "layer normalization.\n",
        "\n",
        "> The decoder is also composed of a stack of N identical layers. In addition\n",
        "to the two sub-layers in each encoder layer, the decoder inserts a third\n",
        "sub-layer, which performs multi-head attention over the output of the encoder\n",
        "stack. The self-attention sub-layer in the decoder stack is modified to prevent\n",
        "positions from attending to subsequent positions.  This masking, combined with\n",
        "the fact that the output embeddings are offset by one position, ensures that the\n",
        "predictions for position i can depend only on the known outputs at positions\n",
        "less than i."
      ]
    },
    {
      "metadata": {
        "id": "v5WnpUpkg7dO",
        "colab_type": "code",
        "colab": {}
      },
      "cell_type": "code",
      "source": [
        "# Preparation\n",
        "\n",
        "# install tensor2tensor\n",
        "! pip install -q -U tensor2tensor\n",
        "\n",
        "# show versions\n",
        "! pip show tensorflow\n",
        "! pip show tensor2tensor\n",
        "\n",
        "# get the needed resources\n",
        "! curl -O http://josd.github.io/eye/i2i/roots/run.sh\n",
        "! curl -O http://josd.github.io/eye/i2i/roots/observation_prediction_roots.py\n",
        "! curl -O http://josd.github.io/eye/i2i/roots/__init__.py\n",
        "! curl -O http://josd.github.io/eye/i2i/roots/test_roots.observation\n",
        "! chmod +x run.sh\n",
        "\n",
        "# clear data and model\n",
        "% rm -fr /tmp/t2t_data/observation_prediction_roots/\n",
        "% rm -fr /tmp/t2t_train/observation_prediction_roots/transformer-transformer_small/\n",
        "\n",
        "# start tensorboard\n",
        "! curl -O https://bin.equinox.io/c/4VmDzA7iaHb/ngrok-stable-linux-amd64.zip\n",
        "! unzip -o ngrok-stable-linux-amd64.zip\n",
        "get_ipython().system_raw('tensorboard --logdir /tmp/t2t_train/observation_prediction_roots/transformer-transformer_small --host 0.0.0.0 --port 6006 &')\n",
        "get_ipython().system_raw('./ngrok http 6006 &')\n",
        "! curl -s http://localhost:4040/api/tunnels | python3 -c \"import sys, json; print(json.load(sys.stdin)['tunnels'][0]['public_url'])\""
      ],
      "execution_count": 0,
      "outputs": []
    },
    {
      "metadata": {
        "id": "RYpFkp0uykNE",
        "colab_type": "code",
        "colab": {}
      },
      "cell_type": "code",
      "source": [
        "# See the observation_prediction_roots problem\n",
        "\n",
        "! pygmentize -g observation_prediction_roots.py"
      ],
      "execution_count": 0,
      "outputs": []
    },
    {
      "metadata": {
        "id": "5F7TRqbByL1o",
        "colab_type": "code",
        "colab": {}
      },
      "cell_type": "code",
      "source": [
        "# See the run.sh script\n",
        "\n",
        "! pygmentize -g run.sh"
      ],
      "execution_count": 0,
      "outputs": []
    },
    {
      "metadata": {
        "id": "XqaxB8hqgoi6",
        "colab_type": "code",
        "colab": {}
      },
      "cell_type": "code",
      "source": [
        "# Run the run.sh script\n",
        "\n",
        "! ./run.sh"
      ],
      "execution_count": 0,
      "outputs": []
    },
    {
      "metadata": {
        "id": "ENGaCZllgojm",
        "colab_type": "code",
        "colab": {}
      },
      "cell_type": "code",
      "source": [
        "# See the transductions\n",
        "\n",
        "! pygmentize -g test_roots.observation\n",
        "print(\"->-\")\n",
        "! pygmentize -g test_roots.prediction"
      ],
      "execution_count": 0,
      "outputs": []
    },
    {
      "metadata": {
        "id": "gsarkaZ8zueU",
        "colab_type": "code",
        "colab": {}
      },
      "cell_type": "code",
      "source": [
        "import os\n",
        "\n",
        "import tensorflow as tf\n",
        "\n",
        "from tensor2tensor import problems\n",
        "from tensor2tensor.bin import t2t_decoder  # To register the hparams set\n",
        "from tensor2tensor.utils import registry\n",
        "from tensor2tensor.utils import trainer_lib\n",
        "from tensor2tensor.visualization import attention\n",
        "from tensor2tensor.visualization import visualization"
      ],
      "execution_count": 0,
      "outputs": []
    },
    {
      "metadata": {
        "id": "h0rNAsqrzuet",
        "colab_type": "code",
        "colab": {}
      },
      "cell_type": "code",
      "source": [
        "def call_html():\n",
        "  import IPython\n",
        "  display(IPython.core.display.HTML('''\n",
        "        <script src=\"/static/components/requirejs/require.js\"></script>\n",
        "        <script>\n",
        "          requirejs.config({\n",
        "            paths: {\n",
        "              base: '/static/base',\n",
        "              \"d3\": \"https://cdnjs.cloudflare.com/ajax/libs/d3/3.5.8/d3.min\",\n",
        "              jquery: '//ajax.googleapis.com/ajax/libs/jquery/2.0.0/jquery.min',\n",
        "            },\n",
        "          });\n",
        "        </script>\n",
        "        '''))"
      ],
      "execution_count": 0,
      "outputs": []
    },
    {
      "metadata": {
        "id": "ou1BcREQzufY",
        "colab_type": "code",
        "colab": {}
      },
      "cell_type": "code",
      "source": [
        "# MODEL\n",
        "CHECKPOINT = os.path.expanduser('/tmp/t2t_train/observation_prediction_roots/transformer-transformer_small')"
      ],
      "execution_count": 0,
      "outputs": []
    },
    {
      "metadata": {
        "id": "LmfhI3xwDE0b",
        "colab_type": "code",
        "colab": {}
      },
      "cell_type": "code",
      "source": [
        "# HPARAMS\n",
        "problem_name = 'observation_prediction_roots'\n",
        "data_dir = os.path.expanduser('/tmp/t2t_data/observation_prediction_roots')\n",
        "model_name = \"transformer\"\n",
        "hparams_set = \"transformer_small\""
      ],
      "execution_count": 0,
      "outputs": []
    },
    {
      "metadata": {
        "id": "VltyrO7_zugI",
        "colab_type": "code",
        "colab": {}
      },
      "cell_type": "code",
      "source": [
        "import observation_prediction_roots\n",
        "\n",
        "visualizer = visualization.AttentionVisualizer(hparams_set, model_name, data_dir, problem_name, beam_size=1)"
      ],
      "execution_count": 0,
      "outputs": []
    },
    {
      "metadata": {
        "id": "HQpwULjozugg",
        "colab_type": "code",
        "colab": {}
      },
      "cell_type": "code",
      "source": [
        "tf.Variable(0, dtype=tf.int64, trainable=False, name='global_step')\n",
        "\n",
        "sess = tf.train.MonitoredTrainingSession(\n",
        "    checkpoint_dir=CHECKPOINT,\n",
        "    save_summaries_secs=0,\n",
        ")"
      ],
      "execution_count": 0,
      "outputs": []
    },
    {
      "metadata": {
        "id": "Gz2R8H3_zug4",
        "colab_type": "code",
        "colab": {}
      },
      "cell_type": "code",
      "source": [
        "input_sentence = \"_:POLYNOMIAL <i2i#coefficients> (2 -1 9).\"\n",
        "output_string, inp_text, out_text, att_mats = visualizer.get_vis_data_from_string(sess, input_sentence)\n",
        "print(output_string)"
      ],
      "execution_count": 0,
      "outputs": []
    },
    {
      "metadata": {
        "id": "51hZWxMkzuhJ",
        "colab_type": "text"
      },
      "cell_type": "markdown",
      "source": [
        "## Interpreting the Visualizations\n",
        "- The layers drop down allow you to view the different Transformer layers, 0-indexed of course.\n",
        "  - Tip: The first layer, last layer and 2nd to last layer are usually the most interpretable.\n",
        "- The attention dropdown allows you to select different pairs of encoder-decoder attentions:\n",
        "  - All: Shows all types of attentions together. NOTE: There is no relation between heads of the same color - between the decoder self attention and decoder-encoder attention since they do not share parameters.\n",
        "  - Input - Input: Shows only the encoder self-attention.\n",
        "  - Input - Output: Shows the decoder’s attention on the encoder. NOTE: Every decoder layer attends to the final layer of encoder so the visualization will show the attention on the final encoder layer regardless of what layer is selected in the drop down.\n",
        "  - Output - Output: Shows only the decoder self-attention. NOTE: The visualization might be slightly misleading in the first layer since the text shown is the target of the decoder, the input to the decoder at layer 0 is this text with a GO symbol prepreded.\n",
        "- The colored squares represent the different attention heads.\n",
        "  - You can hide or show a given head by clicking on it’s color.\n",
        "  - Double clicking a color will hide all other colors, double clicking on a color when it’s the only head showing will show all the heads again.\n",
        "- You can hover over a word to see the individual attention weights for just that position.\n",
        "  - Hovering over the words on the left will show what that position attended to.\n",
        "  - Hovering over the words on the right will show what positions attended to it."
      ]
    },
    {
      "metadata": {
        "id": "gPsEuqNnzuhN",
        "colab_type": "code",
        "colab": {}
      },
      "cell_type": "code",
      "source": [
        "call_html()\n",
        "attention.show(inp_text, out_text, *att_mats)"
      ],
      "execution_count": 0,
      "outputs": []
    }
  ]
}
